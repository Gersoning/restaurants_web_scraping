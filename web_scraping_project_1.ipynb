{
 "cells": [
  {
   "cell_type": "code",
   "execution_count": 3,
   "id": "7694bc92-0d61-44e8-a588-c3a5f8f5775c",
   "metadata": {
    "execution": {
     "iopub.execute_input": "2022-08-14T05:45:32.037591Z",
     "iopub.status.busy": "2022-08-14T05:45:32.037591Z",
     "iopub.status.idle": "2022-08-14T05:45:32.158061Z",
     "shell.execute_reply": "2022-08-14T05:45:32.158061Z",
     "shell.execute_reply.started": "2022-08-14T05:45:32.037591Z"
    },
    "tags": []
   },
   "outputs": [],
   "source": [
    "import pandas as pd\n",
    "from bs4 import BeautifulSoup\n",
    "import requests"
   ]
  },
  {
   "cell_type": "code",
   "execution_count": 5,
   "id": "2f03bfbf-a3cf-4eab-bfcc-5605c036e8a8",
   "metadata": {
    "execution": {
     "iopub.execute_input": "2022-08-14T05:46:11.734149Z",
     "iopub.status.busy": "2022-08-14T05:46:11.726177Z",
     "iopub.status.idle": "2022-08-14T05:46:12.056032Z",
     "shell.execute_reply": "2022-08-14T05:46:12.056032Z",
     "shell.execute_reply.started": "2022-08-14T05:46:11.734149Z"
    },
    "tags": []
   },
   "outputs": [],
   "source": [
    "url = requests.get('https://www.rappi.com.co/restaurantes/900175945')"
   ]
  },
  {
   "cell_type": "code",
   "execution_count": 6,
   "id": "129fc8b4-60b9-4a7e-bca2-7fe069760cad",
   "metadata": {
    "execution": {
     "iopub.execute_input": "2022-08-14T05:46:50.900708Z",
     "iopub.status.busy": "2022-08-14T05:46:50.900708Z",
     "iopub.status.idle": "2022-08-14T05:46:50.950856Z",
     "shell.execute_reply": "2022-08-14T05:46:50.949850Z",
     "shell.execute_reply.started": "2022-08-14T05:46:50.900708Z"
    },
    "tags": []
   },
   "outputs": [],
   "source": [
    "soup = BeautifulSoup(url.content,'html.parser')"
   ]
  },
  {
   "cell_type": "code",
   "execution_count": 22,
   "id": "a4a93202-d8be-4130-b603-dfc423f61f49",
   "metadata": {
    "execution": {
     "iopub.execute_input": "2022-08-14T06:28:05.521296Z",
     "iopub.status.busy": "2022-08-14T06:28:05.521296Z",
     "iopub.status.idle": "2022-08-14T06:28:05.535876Z",
     "shell.execute_reply": "2022-08-14T06:28:05.534888Z",
     "shell.execute_reply.started": "2022-08-14T06:28:05.521296Z"
    },
    "tags": []
   },
   "outputs": [
    {
     "name": "stdout",
     "output_type": "stream",
     "text": [
      "{'href': '/', 'class': ['sc-kTUwUJ', 'cdSwcV']}\n"
     ]
    }
   ],
   "source": [
    "print(soup.a.attrs)"
   ]
  },
  {
   "cell_type": "code",
   "execution_count": 61,
   "id": "381dda07-a41e-4dba-9d03-0b29ff086349",
   "metadata": {
    "execution": {
     "iopub.execute_input": "2022-08-14T07:05:52.425024Z",
     "iopub.status.busy": "2022-08-14T07:05:52.425024Z",
     "iopub.status.idle": "2022-08-14T07:05:52.438284Z",
     "shell.execute_reply": "2022-08-14T07:05:52.437294Z",
     "shell.execute_reply.started": "2022-08-14T07:05:52.425024Z"
    },
    "tags": []
   },
   "outputs": [
    {
     "name": "stdout",
     "output_type": "stream",
     "text": [
      "Hamburguesa Chuck\n",
      "Combo Chuck\n",
      "Hamburguesa Chuckeese \n",
      "Hamburguesa Chuck Shack\n",
      "Hamburguesa Doble Chuck Cheese\n",
      "Hamburguesa Fried Onion\n",
      "Hamburguesa Triple Chuck Cheese \n",
      "Hamburguesa Fried Chicken Chuck Burger\n",
      "Hamburguesa Chuck in out\n",
      "Hamburguesa Grilled Chuck Cheese\n",
      "Hamburguesa Indian Spicy Chicken Chuck Burger\n",
      "Combo Hamburguesa Triple Chuck Cheese \n",
      "Combo Hamburguesa Fried Onion\n",
      "Combo Hamburguesa Grilled Chuck Cheese\n",
      "Papas Caseras Sal Comino\n",
      "Chuck chunks. \n",
      "Soda Casera\n",
      "Soda Casera de Limón\n",
      "Pepsi Light 400 ml \n",
      "Pepsi 400 ml \n",
      "Sierra Fria Postobon Sin Gas 300 ml\n",
      "Cinnabun\n",
      "Donutbun\n"
     ]
    }
   ],
   "source": [
    "for tag in soup.find_all('h4', attrs={'class':'sc-bxivhb'}):\n",
    "    print(tag.text)"
   ]
  },
  {
   "cell_type": "code",
   "execution_count": 69,
   "id": "4ba79b05-afc0-483b-9816-b9fa9a8b6a83",
   "metadata": {
    "execution": {
     "iopub.execute_input": "2022-08-14T07:12:07.716299Z",
     "iopub.status.busy": "2022-08-14T07:12:07.716299Z",
     "iopub.status.idle": "2022-08-14T07:12:07.740297Z",
     "shell.execute_reply": "2022-08-14T07:12:07.740297Z",
     "shell.execute_reply.started": "2022-08-14T07:12:07.716299Z"
    },
    "tags": []
   },
   "outputs": [
    {
     "name": "stdout",
     "output_type": "stream",
     "text": [
      "Hamburguesa Chuck\n",
      "Combo Chuck\n",
      "Hamburguesa Chuckeese \n",
      "Hamburguesa Chuck Shack\n",
      "Hamburguesa Doble Chuck Cheese\n",
      "Hamburguesa Fried Onion\n",
      "Hamburguesa Triple Chuck Cheese \n",
      "Hamburguesa Fried Chicken Chuck Burger\n",
      "Hamburguesa Chuck in out\n",
      "Hamburguesa Grilled Chuck Cheese\n",
      "Hamburguesa Indian Spicy Chicken Chuck Burger\n",
      "Combo Hamburguesa Triple Chuck Cheese \n",
      "Combo Hamburguesa Fried Onion\n",
      "Combo Hamburguesa Grilled Chuck Cheese\n",
      "Papas Caseras Sal Comino\n",
      "Chuck chunks. \n",
      "Soda Casera\n",
      "Soda Casera de Limón\n",
      "Pepsi Light 400 ml \n",
      "Pepsi 400 ml \n",
      "Sierra Fria Postobon Sin Gas 300 ml\n",
      "Cinnabun\n",
      "Donutbun\n"
     ]
    }
   ],
   "source": [
    "for tag in soup.find_all('div', attrs={'class':\"sc-f7a20a98-2\"}):\n",
    "    print(tag.get_text())\n",
    "   "
   ]
  },
  {
   "cell_type": "code",
   "execution_count": 49,
   "id": "1ee92dd9-2f25-4199-a481-032596f1026c",
   "metadata": {
    "execution": {
     "iopub.execute_input": "2022-08-14T06:56:32.303096Z",
     "iopub.status.busy": "2022-08-14T06:56:32.302104Z",
     "iopub.status.idle": "2022-08-14T06:56:32.314132Z",
     "shell.execute_reply": "2022-08-14T06:56:32.313603Z",
     "shell.execute_reply.started": "2022-08-14T06:56:32.303096Z"
    },
    "tags": []
   },
   "outputs": [
    {
     "name": "stdout",
     "output_type": "stream",
     "text": [
      "Hamburguesa Fried Onion\n",
      "Hamburguesa Fried Onion\n",
      "Hamburguesa Triple Chuck Cheese \n",
      "Hamburguesa Triple Chuck Cheese \n",
      "Hamburguesa Fried Chicken Chuck Burger\n",
      "Hamburguesa Fried Chicken Chuck Burger\n",
      "Hamburguesa Chuck in out\n",
      "Hamburguesa Chuck in out\n",
      "Hamburguesa Grilled Chuck Cheese\n",
      "Hamburguesa Grilled Chuck Cheese\n",
      "Hamburguesa Indian Spicy Chicken Chuck Burger\n",
      "Hamburguesa Indian Spicy Chicken Chuck Burger\n",
      "Combo Hamburguesa Triple Chuck Cheese \n",
      "Combo Hamburguesa Triple Chuck Cheese \n",
      "Combo Hamburguesa Fried Onion\n",
      "Combo Hamburguesa Fried Onion\n",
      "Combo Hamburguesa Grilled Chuck Cheese\n",
      "Combo Hamburguesa Grilled Chuck Cheese\n",
      "Papas Caseras Sal Comino\n",
      "Papas Caseras Sal Comino\n",
      "Chuck chunks. \n",
      "Chuck chunks. \n",
      "Soda Casera\n",
      "Soda Casera\n",
      "Soda Casera de Limón\n",
      "Soda Casera de Limón\n",
      "Pepsi Light 400 ml \n",
      "Pepsi Light 400 ml \n",
      "Pepsi 400 ml \n",
      "Pepsi 400 ml \n",
      "Sierra Fria Postobon Sin Gas 300 ml\n",
      "Sierra Fria Postobon Sin Gas 300 ml\n",
      "Cinnabun\n",
      "Cinnabun\n",
      "Donutbun\n",
      "Donutbun\n",
      "A heart for you\n"
     ]
    }
   ],
   "source": [
    "for tag in soup.find_all('img')[13:]:\n",
    "    print(tag['alt'])"
   ]
  }
 ],
 "metadata": {
  "kernelspec": {
   "display_name": "Python 3 (ipykernel)",
   "language": "python",
   "name": "python3"
  },
  "language_info": {
   "codemirror_mode": {
    "name": "ipython",
    "version": 3
   },
   "file_extension": ".py",
   "mimetype": "text/x-python",
   "name": "python",
   "nbconvert_exporter": "python",
   "pygments_lexer": "ipython3",
   "version": "3.10.2"
  }
 },
 "nbformat": 4,
 "nbformat_minor": 5
}
