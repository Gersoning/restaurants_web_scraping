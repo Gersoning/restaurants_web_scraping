{
 "cells": [
  {
   "cell_type": "code",
   "execution_count": 2,
   "id": "7694bc92-0d61-44e8-a588-c3a5f8f5775c",
   "metadata": {
    "execution": {
     "iopub.execute_input": "2022-08-15T01:22:36.351077Z",
     "iopub.status.busy": "2022-08-15T01:22:36.351077Z",
     "iopub.status.idle": "2022-08-15T01:22:36.794230Z",
     "shell.execute_reply": "2022-08-15T01:22:36.793227Z",
     "shell.execute_reply.started": "2022-08-15T01:22:36.351077Z"
    },
    "tags": []
   },
   "outputs": [],
   "source": [
    "import pandas as pd\n",
    "from bs4 import BeautifulSoup\n",
    "import requests"
   ]
  },
  {
   "cell_type": "code",
   "execution_count": 70,
   "id": "2f03bfbf-a3cf-4eab-bfcc-5605c036e8a8",
   "metadata": {
    "execution": {
     "iopub.execute_input": "2022-08-15T02:03:50.397215Z",
     "iopub.status.busy": "2022-08-15T02:03:50.397215Z",
     "iopub.status.idle": "2022-08-15T02:03:50.513950Z",
     "shell.execute_reply": "2022-08-15T02:03:50.513950Z",
     "shell.execute_reply.started": "2022-08-15T02:03:50.397215Z"
    },
    "tags": []
   },
   "outputs": [],
   "source": [
    "url = requests.get('https://www.rappi.com.co/restaurantes/900175945')"
   ]
  },
  {
   "cell_type": "code",
   "execution_count": 71,
   "id": "129fc8b4-60b9-4a7e-bca2-7fe069760cad",
   "metadata": {
    "execution": {
     "iopub.execute_input": "2022-08-15T02:03:51.453278Z",
     "iopub.status.busy": "2022-08-15T02:03:51.453278Z",
     "iopub.status.idle": "2022-08-15T02:03:51.484263Z",
     "shell.execute_reply": "2022-08-15T02:03:51.483262Z",
     "shell.execute_reply.started": "2022-08-15T02:03:51.453278Z"
    },
    "tags": []
   },
   "outputs": [],
   "source": [
    "soup = BeautifulSoup(url.content,'html.parser')"
   ]
  },
  {
   "cell_type": "code",
   "execution_count": 154,
   "id": "a4a93202-d8be-4130-b603-dfc423f61f49",
   "metadata": {
    "execution": {
     "iopub.execute_input": "2022-08-15T03:58:42.618863Z",
     "iopub.status.busy": "2022-08-15T03:58:42.618863Z",
     "iopub.status.idle": "2022-08-15T03:58:42.635858Z",
     "shell.execute_reply": "2022-08-15T03:58:42.635858Z",
     "shell.execute_reply.started": "2022-08-15T03:58:42.618863Z"
    },
    "tags": []
   },
   "outputs": [],
   "source": [
    "for tag in soup.find_all('div', class_ = 'sc-f7a20a98-2 egcAQI'):\n",
    "    for tag in soup.find_all('div', class_ = 'sc-bxivhb fFeDyp sc-f7a20a98-4 kNmLfT small'):\n",
    "    print(tag)"
   ]
  },
  {
   "cell_type": "code",
   "execution_count": 52,
   "id": "3f90acb4-19db-46f0-af02-0406d27193dd",
   "metadata": {
    "execution": {
     "iopub.execute_input": "2022-08-15T01:58:03.068592Z",
     "iopub.status.busy": "2022-08-15T01:58:03.068592Z",
     "iopub.status.idle": "2022-08-15T01:58:03.090617Z",
     "shell.execute_reply": "2022-08-15T01:58:03.090617Z",
     "shell.execute_reply.started": "2022-08-15T01:58:03.068592Z"
    },
    "tags": []
   },
   "outputs": [],
   "source": [
    "names = []\n",
    "images = []\n",
    "for tag in soup.find_all('img',attrs={'class':'sc-1d781697-1'}):\n",
    "    names.append(tag['alt'])\n",
    "    images.append(tag['src'])\n",
    "\n",
    "data_images = pd.DataFrame([],columns=['nombre','imagen'])\n",
    "data_images['nombre'] = names\n",
    "data_images['imagen'] = images\n",
    "data_images = data_images[data_images['imagen'].str.contains('images.rappi')]\n",
    "data_images = data_images.drop_duplicates(subset=['nombre']).set_index('nombre')"
   ]
  },
  {
   "cell_type": "code",
   "execution_count": 74,
   "id": "381dda07-a41e-4dba-9d03-0b29ff086349",
   "metadata": {
    "execution": {
     "iopub.execute_input": "2022-08-15T02:04:04.402581Z",
     "iopub.status.busy": "2022-08-15T02:04:04.401585Z",
     "iopub.status.idle": "2022-08-15T02:04:04.420566Z",
     "shell.execute_reply": "2022-08-15T02:04:04.420566Z",
     "shell.execute_reply.started": "2022-08-15T02:04:04.402581Z"
    },
    "tags": []
   },
   "outputs": [],
   "source": [
    "products = []\n",
    "descriptions = []\n",
    "prices = []\n",
    "for tag in soup.find_all('h4', attrs={'class':'sc-bxivhb'}):\n",
    "    products.append(tag.text)\n",
    "\n",
    "data_rappi = pd.DataFrame([], columns=cols)\n",
    "data_rappi['nombre'] = products\n",
    "# data_rappi['imagen'] = data_rappi.set_index('nombre').apply(lambda x: data_images['imagen'])\n",
    "# data_rappi"
   ]
  },
  {
   "cell_type": "code",
   "execution_count": 54,
   "id": "f9eace0e-c128-420b-a5ee-a0416457631f",
   "metadata": {
    "execution": {
     "iopub.execute_input": "2022-08-15T01:58:16.357592Z",
     "iopub.status.busy": "2022-08-15T01:58:16.357105Z",
     "iopub.status.idle": "2022-08-15T01:58:16.372673Z",
     "shell.execute_reply": "2022-08-15T01:58:16.372673Z",
     "shell.execute_reply.started": "2022-08-15T01:58:16.357592Z"
    },
    "tags": []
   },
   "outputs": [],
   "source": []
  }
 ],
 "metadata": {
  "kernelspec": {
   "display_name": "Python 3 (ipykernel)",
   "language": "python",
   "name": "python3"
  },
  "language_info": {
   "codemirror_mode": {
    "name": "ipython",
    "version": 3
   },
   "file_extension": ".py",
   "mimetype": "text/x-python",
   "name": "python",
   "nbconvert_exporter": "python",
   "pygments_lexer": "ipython3",
   "version": "3.10.2"
  }
 },
 "nbformat": 4,
 "nbformat_minor": 5
}
