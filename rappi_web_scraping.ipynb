{
 "cells": [
  {
   "cell_type": "code",
   "execution_count": 235,
   "id": "7694bc92-0d61-44e8-a588-c3a5f8f5775c",
   "metadata": {
    "execution": {
     "iopub.execute_input": "2022-08-15T05:35:20.063994Z",
     "iopub.status.busy": "2022-08-15T05:35:20.062994Z",
     "iopub.status.idle": "2022-08-15T05:35:20.078996Z",
     "shell.execute_reply": "2022-08-15T05:35:20.078996Z",
     "shell.execute_reply.started": "2022-08-15T05:35:20.063994Z"
    },
    "tags": []
   },
   "outputs": [],
   "source": [
    "import pandas as pd\n",
    "from bs4 import BeautifulSoup\n",
    "import requests\n",
    "import json"
   ]
  },
  {
   "cell_type": "code",
   "execution_count": 381,
   "id": "2f03bfbf-a3cf-4eab-bfcc-5605c036e8a8",
   "metadata": {
    "execution": {
     "iopub.execute_input": "2022-08-15T06:47:29.085450Z",
     "iopub.status.busy": "2022-08-15T06:47:29.085450Z",
     "iopub.status.idle": "2022-08-15T06:47:29.594234Z",
     "shell.execute_reply": "2022-08-15T06:47:29.593664Z",
     "shell.execute_reply.started": "2022-08-15T06:47:29.085450Z"
    },
    "tags": []
   },
   "outputs": [],
   "source": [
    "url = requests.get('https://www.rappi.com.co/restaurantes/900068701')\n",
    "soup = BeautifulSoup(url.content,'html.parser')\n",
    "info = soup.find_all('script')[3].text\n",
    "data = json.loads(info)\n",
    "products = []\n",
    "descriptions = []\n",
    "prices = []\n",
    "images = []"
   ]
  },
  {
   "cell_type": "code",
   "execution_count": 382,
   "id": "d908314b-4fa4-4905-8eb6-e28de41064b8",
   "metadata": {
    "execution": {
     "iopub.execute_input": "2022-08-15T06:47:30.619744Z",
     "iopub.status.busy": "2022-08-15T06:47:30.619744Z",
     "iopub.status.idle": "2022-08-15T06:47:30.641066Z",
     "shell.execute_reply": "2022-08-15T06:47:30.640066Z",
     "shell.execute_reply.started": "2022-08-15T06:47:30.619744Z"
    },
    "tags": []
   },
   "outputs": [],
   "source": [
    "restaurant = data['name']\n",
    "\n",
    "all_items = data['hasMenu']['hasMenuSection']\n",
    "for i in range(len(all_items)):\n",
    "    sections = all_items[i][0]['hasMenuItem']\n",
    "    # print(all_items[i][0]['name'])\n",
    "    for j in range(len(sections)):\n",
    "        # print(\"----->\"+sections[j][0]['name'])\n",
    "        products.append(sections[j][0]['name'])\n",
    "        descriptions.append(sections[j][0]['description'])\n",
    "        prices.append(sections[j][0]['offers']['price'])\n",
    "        \n",
    "\n",
    "for tag in soup.find_all('img',attrs={'class':'sc-1d781697-1'}):\n",
    "    images.append(tag['src'])"
   ]
  },
  {
   "cell_type": "code",
   "execution_count": 383,
   "id": "248e6c06-8205-4b6c-81a3-4abaa2fec5e0",
   "metadata": {
    "execution": {
     "iopub.execute_input": "2022-08-15T06:47:32.725525Z",
     "iopub.status.busy": "2022-08-15T06:47:32.725525Z",
     "iopub.status.idle": "2022-08-15T06:47:32.737518Z",
     "shell.execute_reply": "2022-08-15T06:47:32.736515Z",
     "shell.execute_reply.started": "2022-08-15T06:47:32.725525Z"
    },
    "tags": []
   },
   "outputs": [],
   "source": [
    "data_images = pd.DataFrame([],columns=[])\n",
    "data_images['imagen'] = images\n",
    "data_images = data_images[data_images['imagen'].str.contains('images.rappi')].reset_index()\n",
    "\n",
    "data_rappi = pd.DataFrame([], columns=[])\n",
    "data_rappi['productos'] = products\n",
    "data_rappi['descripcion'] = descriptions\n",
    "data_rappi['precio'] = prices\n",
    "data_rappi['restaurante'] = restaurant\n",
    "data_rappi['imagen'] = data_images['imagen']"
   ]
  },
  {
   "cell_type": "code",
   "execution_count": 380,
   "id": "3f90acb4-19db-46f0-af02-0406d27193dd",
   "metadata": {
    "execution": {
     "iopub.execute_input": "2022-08-15T06:44:26.740103Z",
     "iopub.status.busy": "2022-08-15T06:44:26.739096Z",
     "iopub.status.idle": "2022-08-15T06:44:26.757101Z",
     "shell.execute_reply": "2022-08-15T06:44:26.757101Z",
     "shell.execute_reply.started": "2022-08-15T06:44:26.740103Z"
    },
    "tags": []
   },
   "outputs": [],
   "source": [
    "data_rappi.to_csv(\"./data_rappi.csv\", index=False,  encoding = 'latin1')"
   ]
  }
 ],
 "metadata": {
  "kernelspec": {
   "display_name": "Python 3 (ipykernel)",
   "language": "python",
   "name": "python3"
  },
  "language_info": {
   "codemirror_mode": {
    "name": "ipython",
    "version": 3
   },
   "file_extension": ".py",
   "mimetype": "text/x-python",
   "name": "python",
   "nbconvert_exporter": "python",
   "pygments_lexer": "ipython3",
   "version": "3.10.2"
  }
 },
 "nbformat": 4,
 "nbformat_minor": 5
}
