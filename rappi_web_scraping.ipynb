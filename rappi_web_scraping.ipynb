{
 "cells": [
  {
   "cell_type": "code",
   "execution_count": 1,
   "id": "7694bc92-0d61-44e8-a588-c3a5f8f5775c",
   "metadata": {
    "execution": {
     "iopub.execute_input": "2022-08-15T17:23:30.901833Z",
     "iopub.status.busy": "2022-08-15T17:23:30.901833Z",
     "iopub.status.idle": "2022-08-15T17:23:31.815616Z",
     "shell.execute_reply": "2022-08-15T17:23:31.815616Z",
     "shell.execute_reply.started": "2022-08-15T17:23:30.901833Z"
    },
    "tags": []
   },
   "outputs": [],
   "source": [
    "import pandas as pd\n",
    "from bs4 import BeautifulSoup\n",
    "import requests\n",
    "import json"
   ]
  },
  {
   "cell_type": "code",
   "execution_count": 2,
   "id": "2f03bfbf-a3cf-4eab-bfcc-5605c036e8a8",
   "metadata": {
    "execution": {
     "iopub.execute_input": "2022-08-15T17:23:31.815616Z",
     "iopub.status.busy": "2022-08-15T17:23:31.815616Z",
     "iopub.status.idle": "2022-08-15T17:23:31.832587Z",
     "shell.execute_reply": "2022-08-15T17:23:31.832587Z",
     "shell.execute_reply.started": "2022-08-15T17:23:31.815616Z"
    },
    "tags": []
   },
   "outputs": [],
   "source": [
    "links = ['https://www.rappi.com.co/restaurantes/900068701',\n",
    "         'https://www.rappi.com.co/restaurantes/900017229-tigre-comida-china',\n",
    "         'https://www.rappi.com.co/restaurantes/900086547-kfc-pollo',\n",
    "         'https://www.rappi.com.co/restaurantes/900012595-papa-johns']\n",
    "products = []\n",
    "descriptions = []\n",
    "prices = []\n",
    "images = []\n",
    "names = []\n",
    "style = []\n",
    "restaurant = []"
   ]
  },
  {
   "cell_type": "code",
   "execution_count": 3,
   "id": "d908314b-4fa4-4905-8eb6-e28de41064b8",
   "metadata": {
    "execution": {
     "iopub.execute_input": "2022-08-15T17:23:32.731768Z",
     "iopub.status.busy": "2022-08-15T17:23:32.731768Z",
     "iopub.status.idle": "2022-08-15T17:23:33.738010Z",
     "shell.execute_reply": "2022-08-15T17:23:33.738010Z",
     "shell.execute_reply.started": "2022-08-15T17:23:32.731768Z"
    },
    "tags": []
   },
   "outputs": [],
   "source": [
    "for link in links:\n",
    "    url = requests.get(link)\n",
    "    soup = BeautifulSoup(url.content,'html.parser')\n",
    "    info = soup.find_all('script')[3].text\n",
    "    data = json.loads(info)\n",
    "\n",
    "    all_items = data['hasMenu']['hasMenuSection']\n",
    "    for i in range(len(all_items)):\n",
    "        sections = all_items[i][0]['hasMenuItem']\n",
    "        for j in range(len(sections)):\n",
    "            products.append(sections[j][0]['name'])\n",
    "            descriptions.append(sections[j][0]['description'])\n",
    "            prices.append(sections[j][0]['offers']['price'])\n",
    "            restaurant.append(data['name'])\n",
    "\n",
    "    for tag in soup.find_all('img',attrs={'class':'sc-1d781697-1'}):\n",
    "        images.append(tag['src'])\n",
    "        names.append(tag['alt'])\n",
    "        style.append(tag['style'])"
   ]
  },
  {
   "cell_type": "code",
   "execution_count": 4,
   "id": "248e6c06-8205-4b6c-81a3-4abaa2fec5e0",
   "metadata": {
    "execution": {
     "iopub.execute_input": "2022-08-15T17:23:34.857087Z",
     "iopub.status.busy": "2022-08-15T17:23:34.857087Z",
     "iopub.status.idle": "2022-08-15T17:23:34.891695Z",
     "shell.execute_reply": "2022-08-15T17:23:34.891695Z",
     "shell.execute_reply.started": "2022-08-15T17:23:34.857087Z"
    },
    "tags": []
   },
   "outputs": [],
   "source": [
    "data_images = pd.DataFrame([],columns=[])\n",
    "data_images['imagen'] = images\n",
    "data_images['productos'] = names\n",
    "data_images['style'] = style\n",
    "data_images = data_images[data_images['imagen'].str.contains('images.rappi')]\n",
    "data_images = data_images[~data_images['style'].str.contains('image:url')]\n",
    "\n",
    "data_rappi = pd.DataFrame([], columns=[])\n",
    "data_rappi['productos'] = products\n",
    "data_rappi['descripcion'] = descriptions\n",
    "data_rappi['precio'] = prices\n",
    "data_rappi['restaurante'] = restaurant\n",
    "data_rappi['imagen'] = data_rappi.set_index('productos').index.map(data_images.set_index('productos')['imagen'])"
   ]
  },
  {
   "cell_type": "code",
   "execution_count": 5,
   "id": "3f90acb4-19db-46f0-af02-0406d27193dd",
   "metadata": {
    "execution": {
     "iopub.execute_input": "2022-08-15T17:23:36.451726Z",
     "iopub.status.busy": "2022-08-15T17:23:36.451726Z",
     "iopub.status.idle": "2022-08-15T17:23:36.477019Z",
     "shell.execute_reply": "2022-08-15T17:23:36.475985Z",
     "shell.execute_reply.started": "2022-08-15T17:23:36.451726Z"
    },
    "tags": []
   },
   "outputs": [],
   "source": [
    "data_rappi.to_csv(\"./data_rappi.csv\", index=False,  encoding = 'latin1')"
   ]
  }
 ],
 "metadata": {
  "kernelspec": {
   "display_name": "Python 3 (ipykernel)",
   "language": "python",
   "name": "python3"
  },
  "language_info": {
   "codemirror_mode": {
    "name": "ipython",
    "version": 3
   },
   "file_extension": ".py",
   "mimetype": "text/x-python",
   "name": "python",
   "nbconvert_exporter": "python",
   "pygments_lexer": "ipython3",
   "version": "3.10.2"
  }
 },
 "nbformat": 4,
 "nbformat_minor": 5
}
